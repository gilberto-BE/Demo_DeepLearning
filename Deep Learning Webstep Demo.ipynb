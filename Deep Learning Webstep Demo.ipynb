{
 "cells": [
  {
   "cell_type": "code",
   "execution_count": null,
   "metadata": {},
   "outputs": [
    {
     "name": "stderr",
     "output_type": "stream",
     "text": [
      "C:\\Users\\gilbe\\Anaconda3\\lib\\site-packages\\h5py\\__init__.py:34: FutureWarning: Conversion of the second argument of issubdtype from `float` to `np.floating` is deprecated. In future, it will be treated as `np.float64 == np.dtype(float).type`.\n",
      "  from ._conv import register_converters as _register_converters\n",
      "Exception ignored in: <_io.FileIO name='C:\\\\Users\\\\gilbe\\\\.keras\\\\keras.json' mode='rb' closefd=True>\n",
      "ResourceWarning: unclosed file <_io.TextIOWrapper name='C:\\\\Users\\\\gilbe\\\\.keras\\\\keras.json' mode='r' encoding='cp1252'>\n",
      "Using TensorFlow backend.\n",
      "ERROR:root:Internal Python error in the inspect module.\n",
      "Below is the traceback from this internal error.\n",
      "\n"
     ]
    },
    {
     "name": "stdout",
     "output_type": "stream",
     "text": [
      "Traceback (most recent call last):\n",
      "  File \"C:\\Users\\gilbe\\Anaconda3\\lib\\site-packages\\IPython\\core\\interactiveshell.py\", line 2881, in run_code\n",
      "    exec(code_obj, self.user_global_ns, self.user_ns)\n",
      "  File \"<ipython-input-1-43d0d90c1001>\", line 22, in <module>\n",
      "    from keras import optimizers\n",
      "  File \"C:\\Users\\gilbe\\Anaconda3\\lib\\site-packages\\keras\\__init__.py\", line 3, in <module>\n",
      "    from . import activations\n",
      "  File \"C:\\Users\\gilbe\\Anaconda3\\lib\\site-packages\\keras\\activations.py\", line 3, in <module>\n",
      "    from . import backend as K\n",
      "  File \"C:\\Users\\gilbe\\Anaconda3\\lib\\site-packages\\keras\\backend\\__init__.py\", line 73, in <module>\n",
      "    from .tensorflow_backend import *\n",
      "  File \"C:\\Users\\gilbe\\Anaconda3\\lib\\site-packages\\keras\\backend\\tensorflow_backend.py\", line 1, in <module>\n",
      "    import tensorflow as tf\n",
      "  File \"C:\\Users\\gilbe\\Anaconda3\\lib\\site-packages\\tensorflow\\__init__.py\", line 24, in <module>\n",
      "    from tensorflow.python import *\n",
      "  File \"C:\\Users\\gilbe\\Anaconda3\\lib\\site-packages\\tensorflow\\python\\__init__.py\", line 63, in <module>\n",
      "    from tensorflow.python.framework.framework_lib import *\n",
      "  File \"C:\\Users\\gilbe\\Anaconda3\\lib\\site-packages\\tensorflow\\python\\framework\\framework_lib.py\", line 76, in <module>\n",
      "    from tensorflow.python.framework.ops import Graph\n",
      "  File \"C:\\Users\\gilbe\\Anaconda3\\lib\\site-packages\\tensorflow\\python\\framework\\ops.py\", line 858, in <module>\n",
      "    EagerTensor = c_api.TFE_Py_InitEagerTensor(_EagerTensorBase)\n",
      "DeprecationWarning: builtin type EagerTensor has no __module__ attribute\n",
      "\n",
      "During handling of the above exception, another exception occurred:\n",
      "\n",
      "Traceback (most recent call last):\n",
      "  File \"C:\\Users\\gilbe\\Anaconda3\\lib\\site-packages\\IPython\\core\\interactiveshell.py\", line 1821, in showtraceback\n",
      "    stb = value._render_traceback_()\n",
      "AttributeError: 'DeprecationWarning' object has no attribute '_render_traceback_'\n",
      "\n",
      "During handling of the above exception, another exception occurred:\n",
      "\n",
      "Traceback (most recent call last):\n",
      "  File \"C:\\Users\\gilbe\\Anaconda3\\lib\\site-packages\\IPython\\core\\ultratb.py\", line 1132, in get_records\n",
      "    return _fixed_getinnerframes(etb, number_of_lines_of_context, tb_offset)\n",
      "  File \"C:\\Users\\gilbe\\Anaconda3\\lib\\site-packages\\IPython\\core\\ultratb.py\", line 313, in wrapped\n",
      "    return f(*args, **kwargs)\n",
      "  File \"C:\\Users\\gilbe\\Anaconda3\\lib\\site-packages\\IPython\\core\\ultratb.py\", line 358, in _fixed_getinnerframes\n",
      "    records = fix_frame_records_filenames(inspect.getinnerframes(etb, context))\n",
      "  File \"C:\\Users\\gilbe\\Anaconda3\\lib\\inspect.py\", line 1454, in getinnerframes\n",
      "    frameinfo = (tb.tb_frame,) + getframeinfo(tb, context)\n",
      "  File \"C:\\Users\\gilbe\\Anaconda3\\lib\\inspect.py\", line 1411, in getframeinfo\n",
      "    filename = getsourcefile(frame) or getfile(frame)\n",
      "  File \"C:\\Users\\gilbe\\Anaconda3\\lib\\inspect.py\", line 671, in getsourcefile\n",
      "    if getattr(getmodule(object, filename), '__loader__', None) is not None:\n",
      "  File \"C:\\Users\\gilbe\\Anaconda3\\lib\\inspect.py\", line 708, in getmodule\n",
      "    if ismodule(module) and hasattr(module, '__file__'):\n",
      "  File \"C:\\Users\\gilbe\\Anaconda3\\lib\\site-packages\\py\\_vendored_packages\\apipkg.py\", line 195, in __getattribute__\n",
      "    return getattr(getmod(), name)\n",
      "  File \"C:\\Users\\gilbe\\Anaconda3\\lib\\site-packages\\py\\_vendored_packages\\apipkg.py\", line 179, in getmod\n",
      "    x = importobj(modpath, None)\n",
      "  File \"C:\\Users\\gilbe\\Anaconda3\\lib\\site-packages\\py\\_vendored_packages\\apipkg.py\", line 69, in importobj\n",
      "    module = __import__(modpath, None, None, ['__doc__'])\n",
      "  File \"C:\\Users\\gilbe\\Anaconda3\\lib\\site-packages\\pytest.py\", line 13, in <module>\n",
      "    from _pytest.fixtures import fixture, yield_fixture\n",
      "  File \"C:\\Users\\gilbe\\Anaconda3\\lib\\site-packages\\_pytest\\fixtures.py\", line 845, in <module>\n",
      "    class FixtureFunctionMarker(object):\n",
      "  File \"C:\\Users\\gilbe\\Anaconda3\\lib\\site-packages\\_pytest\\fixtures.py\", line 847, in FixtureFunctionMarker\n",
      "    params = attr.ib(convert=attr.converters.optional(tuple))\n",
      "  File \"C:\\Users\\gilbe\\Anaconda3\\lib\\site-packages\\attr\\_make.py\", line 153, in attrib\n",
      "    DeprecationWarning, stacklevel=2\n",
      "DeprecationWarning: The `convert` argument is deprecated in favor of `converter`.  It will be removed after 2019/01.\n"
     ]
    },
    {
     "ename": "DeprecationWarning",
     "evalue": "builtin type EagerTensor has no __module__ attribute",
     "output_type": "error",
     "traceback": [
      "\u001b[1;31m---------------------------------------------------------------------------\u001b[0m"
     ]
    }
   ],
   "source": [
    "from IPython.display import Image\n",
    "import pandas as pd\n",
    "import numpy as np\n",
    "import mxnet as mx\n",
    "from mxnet import nd, autograd, gluon\n",
    "mx.random.seed(1)\n",
    "import OpenSSL.SSL\n",
    "import seaborn as sns; sns.set()\n",
    "import matplotlib.pyplot as plt; plt.rcParams['figure.figsize'] = (10, 5)\n",
    "import pylab\n",
    "import scipy.stats as stats\n",
    "from sklearn.preprocessing import MinMaxScaler, Imputer, QuantileTransformer\n",
    "\n",
    "# This import is needed to suppress warnings, not sure why thera are warnings.\n",
    "import warnings\n",
    "warnings.simplefilter('error')\n",
    "\n",
    "# Set the context: Run computation on cpus\n",
    "data_ctx = mx.cpu() # data\n",
    "model_ctx = mx.cpu() # parameters\n",
    "\n",
    "from keras import optimizers\n",
    "import keras\n",
    "from keras.models import Sequential\n",
    "from keras.layers import Dense, LSTM, Dropout\n",
    "from keras import regularizers\n",
    "#from sklearn.metrics import mean_squared_error"
   ]
  },
  {
   "cell_type": "markdown",
   "metadata": {},
   "source": [
    "## Deep Learning Demo\n",
    "\n",
    "### Neural Networks\n",
    "\n",
    "### Recurrent Neural Networks\n",
    "\n",
    "### Optimization with Gradient Descent\n",
    "\n",
    "\n",
    "\n",
    "### Deep Learning Framworks\n",
    "* tensorflow\n",
    "* Keras\n",
    "* pytorch\n",
    "* CNTK\n",
    "* MXNet\n",
    "* etc\n",
    "\n",
    "### Linear Regression with MXNet\n",
    "Estimate the parameters $\\mathbf{w}$ and $b$ with a linear model of the form:\n",
    "\\begin{equation}\n",
    "\\hat{y} = \\sum_{i=1}^n w_i x_i + b = \\mathbf{w} \\cdot \\mathbf{X}^T + b\n",
    "\\end{equation}\n",
    "\n",
    "To assess how well our predictions are with respect to the true targets we use the square loss:\n",
    "\\begin{equation}\n",
    "L(y, \\hat{y}) = \\sum_{i=1}^n (\\hat{y}_i - y_i)^2 \n",
    "\\end{equation}\n",
    "\n",
    "\n",
    "Linear regression can be depicted as a Neural Network as in the picture below:\n",
    "\n",
    "![title](img/onelayer.png)\n",
    "\n",
    "Image from MXNet: http://gluon.mxnet.io/chapter02_supervised-learning/linear-regression-scratch.html\n",
    "\n",
    "### Feed Forward Neural Networks\n",
    "\n",
    "![title](img/multilayer-perceptron.png)\n",
    "\n",
    "![title](img/rnn.jpg)"
   ]
  },
  {
   "cell_type": "markdown",
   "metadata": {
    "collapsed": true
   },
   "source": [
    "### Baby steps deep learning with MXNet\n",
    "As an introduction to both MXNet and Deep Learning let's code a linear regression node from scratch.\n",
    "\n",
    "We will be working with MXNet's NDArray data structure. It is very similar to numpy's multidimensional array, but with a few advantages.\n",
    "* support for asynchronous computation on CPU, GPU and distributed architectures\n",
    "* support for automatic differentiation"
   ]
  },
  {
   "cell_type": "code",
   "execution_count": null,
   "metadata": {},
   "outputs": [
    {
     "name": "stdout",
     "output_type": "stream",
     "text": [
      "shape of x: (10000, 2)\n",
      "shape of y: (10000,)\n",
      "\n",
      "[ 0.03629481 -0.49024427]\n",
      "<NDArray 2 @cpu(0)>\n",
      "\n",
      "[6.0096445]\n",
      "<NDArray 1 @cpu(0)>\n",
      "\n",
      "target \n",
      "[6.0096445]\n",
      "<NDArray 1 @cpu(0)>\n",
      "prediction \n",
      "[5.9394197]\n",
      "<NDArray 1 @cpu(0)>\n"
     ]
    }
   ],
   "source": [
    "num_inputs = 2\n",
    "num_outputs = 1\n",
    "num_examples = 10000\n",
    "\n",
    "def real_fn(x):\n",
    "    return 2 * x[:, 0] - 3.4 * x[:, 1] + 4.2\n",
    "\n",
    "# ctx is the context\n",
    "x = nd.random.normal(shape=(num_examples, num_inputs), ctx=data_ctx)\n",
    "print('shape of x:', x.shape)\n",
    "noise = 0.1 * nd.random_normal(shape=(num_examples, ), ctx=data_ctx)\n",
    "y = real_fn(x) + noise\n",
    "print('shape of y:', y.shape)\n",
    "print(x[0])\n",
    "print(y[0])\n",
    "\n",
    "# Test that random points give predictions near the target,\n",
    "# when using the optimal parameters\n",
    "print('')\n",
    "pred = 2 * x[0, 0] - 3.4 * x[0, 1] + 4.2\n",
    "print('target', y[0])\n",
    "print('prediction', pred)"
   ]
  },
  {
   "cell_type": "markdown",
   "metadata": {},
   "source": [
    "### Plotting one feature against the target"
   ]
  },
  {
   "cell_type": "code",
   "execution_count": null,
   "metadata": {},
   "outputs": [
    {
     "data": {
      "image/png": "[encoded data removed]",
      "text/plain": [
       "<matplotlib.figure.Figure at 0x22925867e80>"
      ]
     },
     "metadata": {},
     "output_type": "display_data"
    }
   ],
   "source": [
    "import matplotlib.pyplot as plt\n",
    "plt.scatter(x[:, 1].asnumpy(), y.asnumpy())\n",
    "plt.show()"
   ]
  },
  {
   "cell_type": "markdown",
   "metadata": {},
   "source": [
    "### Data iterators\n",
    "In order to use data iterators the data has to be loaded into an ArrayDataset instance. \n",
    "X can be multidimensional but they have to have equal length along the first dimension: `len(X) == len(y)`\n",
    "\n"
   ]
  },
  {
   "cell_type": "code",
   "execution_count": null,
   "metadata": {},
   "outputs": [
    {
     "name": "stdout",
     "output_type": "stream",
     "text": [
      "\n",
      "[[ 0.9087611  -1.0934283 ]\n",
      " [-0.64259374  0.65999126]\n",
      " [ 1.068709    0.67770654]\n",
      " [-1.407102    0.12982966]\n",
      " [-0.02910455 -1.008146  ]\n",
      " [ 0.61518943  1.8201766 ]\n",
      " [ 0.40254855 -1.6265308 ]\n",
      " [ 0.6268976   0.47722593]]\n",
      "<NDArray 8x2 @cpu(0)> \n",
      "[ 9.763612    0.80846924  4.051443    0.8984949   7.514255   -0.6845095\n",
      " 10.5126505   3.8590088 ]\n",
      "<NDArray 8 @cpu(0)>\n"
     ]
    }
   ],
   "source": [
    "# Shuffle data in this example\n",
    "batch_size = 2**3\n",
    "train_data = gluon.data.DataLoader(gluon.data.ArrayDataset(x, y),\n",
    "                                  batch_size=batch_size, shuffle=True)\n",
    "for i, (data, label) in enumerate(train_data):\n",
    "    print(data, label)\n",
    "    break"
   ]
  },
  {
   "cell_type": "code",
   "execution_count": null,
   "metadata": {},
   "outputs": [
    {
     "name": "stdout",
     "output_type": "stream",
     "text": [
      "1250\n"
     ]
    }
   ],
   "source": [
    "# How many batches?\n",
    "counter = 0\n",
    "for i, (data, label) in enumerate(train_data):\n",
    "    pass\n",
    "print(i + 1)"
   ]
  },
  {
   "cell_type": "markdown",
   "metadata": {},
   "source": [
    "### Model parameters\n",
    "The parameters are initialized on `model_ctx`"
   ]
  },
  {
   "cell_type": "code",
   "execution_count": null,
   "metadata": {
    "collapsed": true
   },
   "outputs": [],
   "source": [
    "w = nd.random_normal(shape=(num_inputs, num_outputs), ctx=model_ctx)\n",
    "b = nd.random_normal(shape=num_outputs, ctx=model_ctx)\n",
    "params = [w, b]"
   ]
  },
  {
   "cell_type": "code",
   "execution_count": null,
   "metadata": {
    "collapsed": true
   },
   "outputs": [],
   "source": [
    "# Allocate memory for each gradient\n",
    "for param in params:\n",
    "    param.attach_grad()"
   ]
  },
  {
   "cell_type": "markdown",
   "metadata": {},
   "source": [
    "## Neural networks\n",
    "The function `net(x)` is just a representation of a linear neuron"
   ]
  },
  {
   "cell_type": "code",
   "execution_count": null,
   "metadata": {
    "collapsed": true
   },
   "outputs": [],
   "source": [
    "def net(x):\n",
    "    return mx.nd.dot(x, w) + b"
   ]
  },
  {
   "cell_type": "markdown",
   "metadata": {},
   "source": [
    "## Loss function"
   ]
  },
  {
   "cell_type": "code",
   "execution_count": null,
   "metadata": {
    "collapsed": true
   },
   "outputs": [],
   "source": [
    "def square_loss(yhat, y):\n",
    "    return nd.mean((yhat - y)**2)"
   ]
  },
  {
   "cell_type": "markdown",
   "metadata": {},
   "source": [
    "## Optimizer\n",
    "Optimization done with gradient descent\n",
    "* `param[:]` is used to update parameters in place!"
   ]
  },
  {
   "cell_type": "code",
   "execution_count": null,
   "metadata": {
    "collapsed": true
   },
   "outputs": [],
   "source": [
    "def SGD(params, lr):\n",
    "    for param in params:\n",
    "        param[:] = param - lr * param.grad"
   ]
  },
  {
   "cell_type": "markdown",
   "metadata": {},
   "source": [
    "## Training loop\n",
    "* compute predictions for `yhat` and compute the loss\n",
    "* compute gradients by invoking `loss.backward()`\n",
    "* update model parameters"
   ]
  },
  {
   "cell_type": "code",
   "execution_count": null,
   "metadata": {
    "collapsed": true
   },
   "outputs": [],
   "source": [
    "def plot_loss(losses, x, sample_size=100):\n",
    "    xs = list(range(len(losses)))\n",
    "    f, (fg1, fg2) = plt.subplots(1, 2)\n",
    "    fg1.set_title('Loss during training')\n",
    "    fg1.plot(xs, losses, '-r')\n",
    "    fg2.set_title('Estimated vs real function')\n",
    "    fg2.plot(x[:sample_size, :].asnumpy(),\n",
    "            net(x[:sample_size, :]).asnumpy(), 'or', \n",
    "             label='Estimated')\n",
    "    fg2.plot(x[:sample_size, 1].asnumpy(),\n",
    "            real_fn(x[:sample_size, :]).asnumpy(), '*g', label='Real')\n",
    "    fg2.legend()\n",
    "    plt.show()\n",
    "    "
   ]
  },
  {
   "cell_type": "code",
   "execution_count": null,
   "metadata": {},
   "outputs": [
    {
     "data": {
      "image/png": "[encoded data removed]",
      "text/plain": [
       "<matplotlib.figure.Figure at 0x2293a7001d0>"
      ]
     },
     "metadata": {},
     "output_type": "display_data"
    },
    {
     "name": "stdout",
     "output_type": "stream",
     "text": [
      "epoch: 0 cumulative loss: 36.50973535308838\n",
      "epoch: 1 cumulative loss: 22.077376329422\n",
      "epoch: 2 cumulative loss: 13.3521841837883\n",
      "epoch: 3 cumulative loss: 8.07711467370987\n",
      "epoch: 4 cumulative loss: 4.887894183135033\n",
      "epoch: 5 cumulative loss: 2.9595741784095764\n",
      "epoch: 6 cumulative loss: 1.7936680288672446\n",
      "epoch: 7 cumulative loss: 1.0887097429782153\n",
      "epoch: 8 cumulative loss: 0.6624235443115234\n",
      "epoch: 9 cumulative loss: 0.4046315411657095\n"
     ]
    },
    {
     "data": {
      "image/png": "[encoded data removed]",
      "text/plain": [
       "<matplotlib.figure.Figure at 0x2293da22f60>"
      ]
     },
     "metadata": {},
     "output_type": "display_data"
    }
   ],
   "source": [
    "epochs = 10\n",
    "learning_rate = 0.0001\n",
    "num_batches = num_examples/batch_size\n",
    "losses = []\n",
    "plot_loss(losses, x)\n",
    "\n",
    "for e in range(epochs):\n",
    "    cumulative_loss = 0\n",
    "    for _, (data, label) in enumerate(train_data):\n",
    "        # check data and parameters in same context!\n",
    "        data = data.as_in_context(model_ctx)\n",
    "        label = label.as_in_context(model_ctx).reshape((-1, 1))\n",
    "        with autograd.record():\n",
    "            output = net(data)\n",
    "            loss = square_loss(output, label)\n",
    "        loss.backward()\n",
    "        SGD(params, learning_rate)\n",
    "        cumulative_loss += loss.asscalar()\n",
    "    print('epoch: {} cumulative loss: {}'.format(e, \n",
    "                                          cumulative_loss/num_batches))\n",
    "    losses.append(cumulative_loss/num_batches)\n",
    "plot_loss(losses, x)\n"
   ]
  },
  {
   "cell_type": "code",
   "execution_count": null,
   "metadata": {},
   "outputs": [
    {
     "name": "stdout",
     "output_type": "stream",
     "text": [
      "weights: (2, 1)\n",
      "\n",
      "[[ 1.7958331]\n",
      " [-2.984357 ]]\n",
      "<NDArray 2x1 @cpu(0)>\n",
      "\n",
      "bias: (1,)\n",
      "\n",
      "[3.9020536]\n",
      "<NDArray 1 @cpu(0)>\n"
     ]
    }
   ],
   "source": [
    "print('weights:', params[0].shape)\n",
    "print(params[0])\n",
    "print('')\n",
    "print('bias:', params[1].shape)\n",
    "print(params[1])"
   ]
  },
  {
   "cell_type": "code",
   "execution_count": null,
   "metadata": {
    "collapsed": true
   },
   "outputs": [],
   "source": []
  },
  {
   "cell_type": "code",
   "execution_count": null,
   "metadata": {
    "collapsed": true
   },
   "outputs": [],
   "source": []
  },
  {
   "cell_type": "code",
   "execution_count": null,
   "metadata": {
    "collapsed": true
   },
   "outputs": [],
   "source": []
  },
  {
   "cell_type": "markdown",
   "metadata": {},
   "source": [
    "## Example from finance: Prediction of prices for next day\n",
    "Data is loaded from tiingo, a platform for free and licensed financial data\n",
    "Other vendors include QUANDL, QUANTOPIA ETC."
   ]
  },
  {
   "cell_type": "markdown",
   "metadata": {},
   "source": [
    "### Load and preprocess data"
   ]
  },
  {
   "cell_type": "code",
   "execution_count": null,
   "metadata": {},
   "outputs": [
    {
     "data": {
      "text/html": [
       "<div>\n",
       "<table border=\"1\" class=\"dataframe\">\n",
       "  <thead>\n",
       "    <tr style=\"text-align: right;\">\n",
       "      <th></th>\n",
       "      <th>AAPL</th>\n",
       "      <th>ABBV</th>\n",
       "      <th>ABT</th>\n",
       "      <th>AMGN</th>\n",
       "      <th>AMZN</th>\n",
       "      <th>AVGO</th>\n",
       "      <th>BA</th>\n",
       "      <th>BAC</th>\n",
       "      <th>BMY</th>\n",
       "      <th>C</th>\n",
       "      <th>...</th>\n",
       "      <th>PFE</th>\n",
       "      <th>PG</th>\n",
       "      <th>PM</th>\n",
       "      <th>T</th>\n",
       "      <th>UNH</th>\n",
       "      <th>V</th>\n",
       "      <th>VZ</th>\n",
       "      <th>WFC</th>\n",
       "      <th>WMT</th>\n",
       "      <th>XOM</th>\n",
       "    </tr>\n",
       "    <tr>\n",
       "      <th>date</th>\n",
       "      <th></th>\n",
       "      <th></th>\n",
       "      <th></th>\n",
       "      <th></th>\n",
       "      <th></th>\n",
       "      <th></th>\n",
       "      <th></th>\n",
       "      <th></th>\n",
       "      <th></th>\n",
       "      <th></th>\n",
       "      <th></th>\n",
       "      <th></th>\n",
       "      <th></th>\n",
       "      <th></th>\n",
       "      <th></th>\n",
       "      <th></th>\n",
       "      <th></th>\n",
       "      <th></th>\n",
       "      <th></th>\n",
       "      <th></th>\n",
       "      <th></th>\n",
       "    </tr>\n",
       "  </thead>\n",
       "  <tbody>\n",
       "    <tr>\n",
       "      <th>2010-01-04</th>\n",
       "      <td>27.294495</td>\n",
       "      <td>NaN</td>\n",
       "      <td>21.129273</td>\n",
       "      <td>49.792737</td>\n",
       "      <td>133.90</td>\n",
       "      <td>16.673423</td>\n",
       "      <td>45.640616</td>\n",
       "      <td>14.639460</td>\n",
       "      <td>19.648366</td>\n",
       "      <td>32.843185</td>\n",
       "      <td>...</td>\n",
       "      <td>13.934719</td>\n",
       "      <td>47.114847</td>\n",
       "      <td>34.709530</td>\n",
       "      <td>18.323770</td>\n",
       "      <td>27.878733</td>\n",
       "      <td>20.694802</td>\n",
       "      <td>20.828887</td>\n",
       "      <td>22.385830</td>\n",
       "      <td>43.935552</td>\n",
       "      <td>53.998112</td>\n",
       "    </tr>\n",
       "    <tr>\n",
       "      <th>2010-01-05</th>\n",
       "      <td>27.341684</td>\n",
       "      <td>NaN</td>\n",
       "      <td>20.958563</td>\n",
       "      <td>49.365427</td>\n",
       "      <td>134.69</td>\n",
       "      <td>16.797192</td>\n",
       "      <td>47.135432</td>\n",
       "      <td>15.115313</td>\n",
       "      <td>19.341720</td>\n",
       "      <td>34.098954</td>\n",
       "      <td>...</td>\n",
       "      <td>13.735967</td>\n",
       "      <td>47.130264</td>\n",
       "      <td>34.407096</td>\n",
       "      <td>18.234010</td>\n",
       "      <td>27.834524</td>\n",
       "      <td>20.457660</td>\n",
       "      <td>20.566022</td>\n",
       "      <td>23.000375</td>\n",
       "      <td>43.498060</td>\n",
       "      <td>54.208950</td>\n",
       "    </tr>\n",
       "    <tr>\n",
       "      <th>2010-01-06</th>\n",
       "      <td>26.906778</td>\n",
       "      <td>NaN</td>\n",
       "      <td>21.074956</td>\n",
       "      <td>48.994453</td>\n",
       "      <td>132.25</td>\n",
       "      <td>16.929801</td>\n",
       "      <td>48.565255</td>\n",
       "      <td>15.292591</td>\n",
       "      <td>19.334054</td>\n",
       "      <td>35.161528</td>\n",
       "      <td>...</td>\n",
       "      <td>13.691800</td>\n",
       "      <td>46.906716</td>\n",
       "      <td>34.407096</td>\n",
       "      <td>17.971143</td>\n",
       "      <td>28.108625</td>\n",
       "      <td>20.182950</td>\n",
       "      <td>20.274994</td>\n",
       "      <td>23.033151</td>\n",
       "      <td>43.400840</td>\n",
       "      <td>54.677481</td>\n",
       "    </tr>\n",
       "    <tr>\n",
       "      <th>2010-01-07</th>\n",
       "      <td>26.857038</td>\n",
       "      <td>NaN</td>\n",
       "      <td>21.249546</td>\n",
       "      <td>48.545833</td>\n",
       "      <td>130.00</td>\n",
       "      <td>16.823714</td>\n",
       "      <td>50.531263</td>\n",
       "      <td>15.796435</td>\n",
       "      <td>19.349386</td>\n",
       "      <td>35.258126</td>\n",
       "      <td>...</td>\n",
       "      <td>13.640272</td>\n",
       "      <td>46.652332</td>\n",
       "      <td>34.836130</td>\n",
       "      <td>17.769366</td>\n",
       "      <td>29.187345</td>\n",
       "      <td>20.370786</td>\n",
       "      <td>20.154309</td>\n",
       "      <td>23.868932</td>\n",
       "      <td>43.425145</td>\n",
       "      <td>54.505686</td>\n",
       "    </tr>\n",
       "    <tr>\n",
       "      <th>2010-01-08</th>\n",
       "      <td>27.035592</td>\n",
       "      <td>NaN</td>\n",
       "      <td>21.358180</td>\n",
       "      <td>48.977198</td>\n",
       "      <td>133.52</td>\n",
       "      <td>16.947483</td>\n",
       "      <td>50.043823</td>\n",
       "      <td>15.656478</td>\n",
       "      <td>19.027407</td>\n",
       "      <td>34.678540</td>\n",
       "      <td>...</td>\n",
       "      <td>13.750689</td>\n",
       "      <td>46.590664</td>\n",
       "      <td>34.646230</td>\n",
       "      <td>17.639188</td>\n",
       "      <td>28.913244</td>\n",
       "      <td>20.427137</td>\n",
       "      <td>20.167013</td>\n",
       "      <td>23.647696</td>\n",
       "      <td>43.206399</td>\n",
       "      <td>54.287039</td>\n",
       "    </tr>\n",
       "  </tbody>\n",
       "</table>\n",
       "<p>5 rows × 49 columns</p>\n",
       "</div>"
      ],
      "text/plain": [
       "                 AAPL  ABBV        ABT       AMGN    AMZN       AVGO  \\\n",
       "date                                                                   \n",
       "2010-01-04  27.294495   NaN  21.129273  49.792737  133.90  16.673423   \n",
       "2010-01-05  27.341684   NaN  20.958563  49.365427  134.69  16.797192   \n",
       "2010-01-06  26.906778   NaN  21.074956  48.994453  132.25  16.929801   \n",
       "2010-01-07  26.857038   NaN  21.249546  48.545833  130.00  16.823714   \n",
       "2010-01-08  27.035592   NaN  21.358180  48.977198  133.52  16.947483   \n",
       "\n",
       "                   BA        BAC        BMY          C    ...            PFE  \\\n",
       "date                                                      ...                  \n",
       "2010-01-04  45.640616  14.639460  19.648366  32.843185    ...      13.934719   \n",
       "2010-01-05  47.135432  15.115313  19.341720  34.098954    ...      13.735967   \n",
       "2010-01-06  48.565255  15.292591  19.334054  35.161528    ...      13.691800   \n",
       "2010-01-07  50.531263  15.796435  19.349386  35.258126    ...      13.640272   \n",
       "2010-01-08  50.043823  15.656478  19.027407  34.678540    ...      13.750689   \n",
       "\n",
       "                   PG         PM          T        UNH          V         VZ  \\\n",
       "date                                                                           \n",
       "2010-01-04  47.114847  34.709530  18.323770  27.878733  20.694802  20.828887   \n",
       "2010-01-05  47.130264  34.407096  18.234010  27.834524  20.457660  20.566022   \n",
       "2010-01-06  46.906716  34.407096  17.971143  28.108625  20.182950  20.274994   \n",
       "2010-01-07  46.652332  34.836130  17.769366  29.187345  20.370786  20.154309   \n",
       "2010-01-08  46.590664  34.646230  17.639188  28.913244  20.427137  20.167013   \n",
       "\n",
       "                  WFC        WMT        XOM  \n",
       "date                                         \n",
       "2010-01-04  22.385830  43.935552  53.998112  \n",
       "2010-01-05  23.000375  43.498060  54.208950  \n",
       "2010-01-06  23.033151  43.400840  54.677481  \n",
       "2010-01-07  23.868932  43.425145  54.505686  \n",
       "2010-01-08  23.647696  43.206399  54.287039  \n",
       "\n",
       "[5 rows x 49 columns]"
      ]
     },
     "execution_count": 14,
     "metadata": {},
     "output_type": "execute_result"
    }
   ],
   "source": [
    "data = pd.read_csv('closing_prices_tiingo.csv', parse_dates=True, infer_datetime_format=True)\n",
    "data['date'] = pd.to_datetime(data['date'])\n",
    "data.set_index('date', inplace=True)\n",
    "data.head()"
   ]
  },
  {
   "cell_type": "code",
   "execution_count": null,
   "metadata": {},
   "outputs": [
    {
     "data": {
      "image/png": "[encoded data removed]",
      "text/plain": [
       "<matplotlib.figure.Figure at 0x2293da14ba8>"
      ]
     },
     "metadata": {},
     "output_type": "display_data"
    }
   ],
   "source": [
    "data.plot(legend=False, title='All stocks in data set')\n",
    "plt.show()"
   ]
  },
  {
   "cell_type": "code",
   "execution_count": null,
   "metadata": {},
   "outputs": [
    {
     "data": {
      "text/plain": [
       "date\n",
       "2010-01-04    27.294495\n",
       "2010-01-05    27.341684\n",
       "2010-01-06    26.906778\n",
       "2010-01-07    26.857038\n",
       "2010-01-08    27.035592\n",
       "Name: AAPL, dtype: float64"
      ]
     },
     "execution_count": 16,
     "metadata": {},
     "output_type": "execute_result"
    }
   ],
   "source": [
    "aapl = data['AAPL']\n",
    "aapl.head()"
   ]
  },
  {
   "cell_type": "markdown",
   "metadata": {},
   "source": [
    "## Plot the price data"
   ]
  },
  {
   "cell_type": "code",
   "execution_count": null,
   "metadata": {
    "collapsed": true
   },
   "outputs": [],
   "source": [
    "def to_return(x, period=1):\n",
    "    \"\"\" This function supposes that the input is a\n",
    "    dataframe or series\"\"\"\n",
    "    return (x - x.shift(periods=period, axis='index'))/x.shift(periods=period)"
   ]
  },
  {
   "cell_type": "markdown",
   "metadata": {},
   "source": [
    "We are using the pandas API to plot(), pandas knows we are plotting a time series and sets the time axis automatically.\n"
   ]
  },
  {
   "cell_type": "code",
   "execution_count": null,
   "metadata": {},
   "outputs": [
    {
     "data": {
      "image/png": "[encoded data removed]",
      "text/plain": [
       "<matplotlib.figure.Figure at 0x2293fe01978>"
      ]
     },
     "metadata": {},
     "output_type": "display_data"
    }
   ],
   "source": [
    "aapl.plot(legend=True)\n",
    "plt.show()"
   ]
  },
  {
   "cell_type": "markdown",
   "metadata": {},
   "source": [
    "Returns are computed as\n",
    "\\begin{equation}\n",
    "R_{t+1} = \\frac{P_{t+1}}{P_t} - 1\n",
    "\\end{equation}"
   ]
  },
  {
   "cell_type": "code",
   "execution_count": null,
   "metadata": {},
   "outputs": [
    {
     "name": "stdout",
     "output_type": "stream",
     "text": [
      "date\n",
      "2010-01-04         NaN\n",
      "2010-01-05    0.001729\n",
      "2010-01-06   -0.015906\n",
      "2010-01-07   -0.001849\n",
      "2010-01-08    0.006648\n",
      "Name: AAPL, dtype: float64\n",
      "Shape of data: (2055,)\n"
     ]
    },
    {
     "data": {
      "image/png": "[encoded data removed]",
      "text/plain": [
       "<matplotlib.figure.Figure at 0x2293fd6e160>"
      ]
     },
     "metadata": {},
     "output_type": "display_data"
    }
   ],
   "source": [
    "ret = to_return(aapl)\n",
    "print(ret.head())\n",
    "print('Shape of data: {}'.format(ret.shape))\n",
    "ret.plot(title='AAPL Returns')\n",
    "plt.show()"
   ]
  },
  {
   "cell_type": "code",
   "execution_count": null,
   "metadata": {},
   "outputs": [
    {
     "name": "stderr",
     "output_type": "stream",
     "text": [
      "ERROR:root:Internal Python error in the inspect module.\n",
      "Below is the traceback from this internal error.\n",
      "\n"
     ]
    },
    {
     "name": "stdout",
     "output_type": "stream",
     "text": [
      "Traceback (most recent call last):\n",
      "  File \"C:\\Users\\gilbe\\Anaconda3\\lib\\site-packages\\IPython\\core\\interactiveshell.py\", line 2881, in run_code\n",
      "    exec(code_obj, self.user_global_ns, self.user_ns)\n",
      "  File \"<ipython-input-20-5790ee74d468>\", line 1, in <module>\n",
      "    stats.probplot(ret, dist='norm', plot=pylab)\n",
      "  File \"C:\\Users\\gilbe\\Anaconda3\\lib\\site-packages\\scipy\\stats\\morestats.py\", line 605, in probplot\n",
      "    slope, intercept, r, prob, sterrest = stats.linregress(osm, osr)\n",
      "  File \"C:\\Users\\gilbe\\Anaconda3\\lib\\site-packages\\scipy\\stats\\_stats_mstats_common.py\", line 117, in linregress\n",
      "    prob = 2 * distributions.t.sf(np.abs(t), df)\n",
      "  File \"C:\\Users\\gilbe\\Anaconda3\\lib\\site-packages\\scipy\\stats\\_distn_infrastructure.py\", line 1817, in sf\n",
      "    cond1 = self._open_support_mask(x) & (scale > 0)\n",
      "  File \"C:\\Users\\gilbe\\Anaconda3\\lib\\site-packages\\scipy\\stats\\_distn_infrastructure.py\", line 879, in _open_support_mask\n",
      "    return (self.a < x) & (x < self.b)\n",
      "RuntimeWarning: invalid value encountered in greater\n",
      "\n",
      "During handling of the above exception, another exception occurred:\n",
      "\n",
      "Traceback (most recent call last):\n",
      "  File \"C:\\Users\\gilbe\\Anaconda3\\lib\\site-packages\\IPython\\core\\interactiveshell.py\", line 1821, in showtraceback\n",
      "    stb = value._render_traceback_()\n",
      "AttributeError: 'RuntimeWarning' object has no attribute '_render_traceback_'\n",
      "\n",
      "During handling of the above exception, another exception occurred:\n",
      "\n",
      "Traceback (most recent call last):\n",
      "  File \"C:\\Users\\gilbe\\Anaconda3\\lib\\site-packages\\IPython\\core\\ultratb.py\", line 1132, in get_records\n",
      "    return _fixed_getinnerframes(etb, number_of_lines_of_context, tb_offset)\n",
      "  File \"C:\\Users\\gilbe\\Anaconda3\\lib\\site-packages\\IPython\\core\\ultratb.py\", line 313, in wrapped\n",
      "    return f(*args, **kwargs)\n",
      "  File \"C:\\Users\\gilbe\\Anaconda3\\lib\\site-packages\\IPython\\core\\ultratb.py\", line 358, in _fixed_getinnerframes\n",
      "    records = fix_frame_records_filenames(inspect.getinnerframes(etb, context))\n",
      "  File \"C:\\Users\\gilbe\\Anaconda3\\lib\\inspect.py\", line 1454, in getinnerframes\n",
      "    frameinfo = (tb.tb_frame,) + getframeinfo(tb, context)\n",
      "  File \"C:\\Users\\gilbe\\Anaconda3\\lib\\inspect.py\", line 1411, in getframeinfo\n",
      "    filename = getsourcefile(frame) or getfile(frame)\n",
      "  File \"C:\\Users\\gilbe\\Anaconda3\\lib\\inspect.py\", line 671, in getsourcefile\n",
      "    if getattr(getmodule(object, filename), '__loader__', None) is not None:\n",
      "  File \"C:\\Users\\gilbe\\Anaconda3\\lib\\inspect.py\", line 708, in getmodule\n",
      "    if ismodule(module) and hasattr(module, '__file__'):\n",
      "  File \"C:\\Users\\gilbe\\Anaconda3\\lib\\site-packages\\py\\_vendored_packages\\apipkg.py\", line 195, in __getattribute__\n",
      "    return getattr(getmod(), name)\n",
      "  File \"C:\\Users\\gilbe\\Anaconda3\\lib\\site-packages\\py\\_vendored_packages\\apipkg.py\", line 179, in getmod\n",
      "    x = importobj(modpath, None)\n",
      "  File \"C:\\Users\\gilbe\\Anaconda3\\lib\\site-packages\\py\\_vendored_packages\\apipkg.py\", line 69, in importobj\n",
      "    module = __import__(modpath, None, None, ['__doc__'])\n",
      "  File \"C:\\Users\\gilbe\\Anaconda3\\lib\\site-packages\\pytest.py\", line 13, in <module>\n",
      "    from _pytest.fixtures import fixture, yield_fixture\n",
      "  File \"C:\\Users\\gilbe\\Anaconda3\\lib\\site-packages\\_pytest\\fixtures.py\", line 845, in <module>\n",
      "    class FixtureFunctionMarker(object):\n",
      "  File \"C:\\Users\\gilbe\\Anaconda3\\lib\\site-packages\\_pytest\\fixtures.py\", line 847, in FixtureFunctionMarker\n",
      "    params = attr.ib(convert=attr.converters.optional(tuple))\n",
      "  File \"C:\\Users\\gilbe\\Anaconda3\\lib\\site-packages\\attr\\_make.py\", line 153, in attrib\n",
      "    DeprecationWarning, stacklevel=2\n",
      "DeprecationWarning: The `convert` argument is deprecated in favor of `converter`.  It will be removed after 2019/01.\n"
     ]
    },
    {
     "ename": "RuntimeWarning",
     "evalue": "invalid value encountered in greater",
     "output_type": "error",
     "traceback": [
      "\u001b[1;31m---------------------------------------------------------------------------\u001b[0m"
     ]
    }
   ],
   "source": [
    "stats.probplot(ret, dist='norm', plot=pylab)\n",
    "plt.title('QQ-plot for AAPL returns')\n",
    "pylab.show()"
   ]
  },
  {
   "cell_type": "markdown",
   "metadata": {},
   "source": [
    "## Divide in training and test sets\n",
    "* Because we are working with time series where order matters we will not randomize the data sets. \n",
    "* Randomization is otherwise done in data sets where the assumption of independent and identically distributed (i.i.d.) applies. \n",
    "\n",
    "Start by transforming data to a rolling window of x daily returns/prices, depending on the data to predict on. For example for a window of 30 days:\n",
    "\\begin{equation}\n",
    "\\{S_{t-29}, S_{t-28}, \\dots, S_{t}\\}\n",
    "\\end{equation}\n",
    "where $t\\geq 30$.\n",
    "\n",
    "To recap: we use the rolling window to predict the $S_{t+1}$ prices as follows\n",
    "\n",
    "\\begin{equation}\n",
    "S_{t + 1} = F_{\\theta}(S_{t-29}, \\dots, S_t)\n",
    "\\end{equation}\n",
    "\n",
    "The machine learning task is to estimate the parameters $\\theta = \\{W_1, W_2, \\dots, W_n\\}$\n"
   ]
  },
  {
   "cell_type": "code",
   "execution_count": null,
   "metadata": {
    "collapsed": true
   },
   "outputs": [],
   "source": [
    "def to_tensor(data, timesteps=30):\n",
    "    x = np.array([data[i:i + timesteps]\n",
    "                  for i in range(len(data) - timesteps)], dtype=float)\n",
    "    return x"
   ]
  },
  {
   "cell_type": "code",
   "execution_count": null,
   "metadata": {},
   "outputs": [
    {
     "data": {
      "text/plain": [
       "(2024, 31)"
      ]
     },
     "execution_count": 22,
     "metadata": {},
     "output_type": "execute_result"
    }
   ],
   "source": [
    "price_input = to_tensor(aapl, timesteps=31)\n",
    "price_input.shape"
   ]
  },
  {
   "cell_type": "code",
   "execution_count": null,
   "metadata": {
    "collapsed": true
   },
   "outputs": [],
   "source": [
    "# Get train and development sets\n",
    "# Note this function assumes a time series, indexing has to be \n",
    "# modified if using a dataframe\n",
    "# x is either price series or return series\n",
    "def get_train_dev(x, dev=0.85):\n",
    "#    if to_return:\n",
    "#        x = to_return(x)\n",
    "    dev_ix = int(dev * len(x))\n",
    "    train = x.iloc[:dev_ix]\n",
    "    dev = x.iloc[dev_ix:]\n",
    "    \n",
    "    # impute data\n",
    "    # dont use pipeline in order to inverse transform\n",
    "    # reshape([-1, 1]) is only needed in the case of working with a 1-Dim series\n",
    "    imputer = Imputer(strategy='median')\n",
    "    train = imputer.fit_transform(train.values.reshape([-1, 1]))\n",
    "    dev = imputer.transform(dev.values.reshape([-1, 1]))\n",
    "    \n",
    "    # normalize\n",
    "    scaler = MinMaxScaler(feature_range=(-1, 1))\n",
    "    train = scaler.fit_transform(train.reshape(-1, 1))\n",
    "    dev = scaler.transform(dev.reshape(-1, 1))\n",
    "    \n",
    "    # transform data to tensors\n",
    "    # for now we index in 2-Dim because we started with\n",
    "    # 1-Dim time series\n",
    "    # in case of using a dataframe indexes are 3-Dim\n",
    "    train = to_tensor(train)\n",
    "    x_train = train[:,:-1]\n",
    "    y_train = train[:,-1]\n",
    "    \n",
    "    dev = to_tensor(dev)\n",
    "    x_dev = dev[:, :-1]\n",
    "    y_dev = dev[:, -1]\n",
    "    \n",
    "    return x_train, y_train, x_dev, y_dev"
   ]
  },
  {
   "cell_type": "code",
   "execution_count": null,
   "metadata": {},
   "outputs": [
    {
     "name": "stdout",
     "output_type": "stream",
     "text": [
      "(1716, 29, 1)\n",
      "(1716, 1)\n",
      "(279, 29, 1)\n",
      "(279, 1)\n"
     ]
    }
   ],
   "source": [
    "x_train, y_train, x_dev, y_dev = get_train_dev(ret)\n",
    "print(x_train.shape)\n",
    "print(y_train.shape)\n",
    "print(x_dev.shape)\n",
    "print(y_dev.shape)"
   ]
  },
  {
   "cell_type": "markdown",
   "metadata": {},
   "source": [
    "### Keras model\n",
    "Now we train a LSTM in keras. Keras is a high level library made for easy prototyping. It is built on top of tensorflow, theano and CNTK. Models can be built from the Sequential class, it is also possible to use their functional API."
   ]
  },
  {
   "cell_type": "code",
   "execution_count": null,
   "metadata": {
    "collapsed": true
   },
   "outputs": [],
   "source": [
    "def plot_error_curves(history):\n",
    "    f1, axarr1 = plt.subplots(2, 1, sharex=True, figsize=(8, 10))\n",
    "    axarr1[0].plot(history.history['loss'])\n",
    "    axarr1[0].set_title('Training Loss')\n",
    "    axarr1[1].plot(history.history['val_loss'])\n",
    "    axarr1[1].set_title('Dev Loss')\n",
    "    axarr1[1].set_xlabel('Epochs')\n",
    "#    f1.suptitle('MSE for stock: {}'.format(st_name))\n",
    "plt.show()"
   ]
  },
  {
   "cell_type": "code",
   "execution_count": null,
   "metadata": {},
   "outputs": [
    {
     "name": "stderr",
     "output_type": "stream",
     "text": [
      "Exception ignored in: <_io.FileIO name='C:\\\\Users\\\\gilbe\\\\.keras\\\\keras.json' mode='rb' closefd=True>\n",
      "ResourceWarning: unclosed file <_io.TextIOWrapper name='C:\\\\Users\\\\gilbe\\\\.keras\\\\keras.json' mode='r' encoding='cp1252'>\n",
      "Using TensorFlow backend.\n",
      "ERROR:root:Internal Python error in the inspect module.\n",
      "Below is the traceback from this internal error.\n",
      "\n"
     ]
    },
    {
     "name": "stdout",
     "output_type": "stream",
     "text": [
      "Traceback (most recent call last):\n",
      "  File \"C:\\Users\\gilbe\\Anaconda3\\lib\\site-packages\\IPython\\core\\interactiveshell.py\", line 2881, in run_code\n",
      "    exec(code_obj, self.user_global_ns, self.user_ns)\n",
      "  File \"<ipython-input-26-f77fa6921796>\", line 9, in <module>\n",
      "    from keras import optimizers\n",
      "  File \"C:\\Users\\gilbe\\Anaconda3\\lib\\site-packages\\keras\\__init__.py\", line 3, in <module>\n",
      "    from . import activations\n",
      "  File \"C:\\Users\\gilbe\\Anaconda3\\lib\\site-packages\\keras\\activations.py\", line 3, in <module>\n",
      "    from . import backend as K\n",
      "  File \"C:\\Users\\gilbe\\Anaconda3\\lib\\site-packages\\keras\\backend\\__init__.py\", line 73, in <module>\n",
      "    from .tensorflow_backend import *\n",
      "  File \"C:\\Users\\gilbe\\Anaconda3\\lib\\site-packages\\keras\\backend\\tensorflow_backend.py\", line 1, in <module>\n",
      "    import tensorflow as tf\n",
      "  File \"C:\\Users\\gilbe\\Anaconda3\\lib\\site-packages\\tensorflow\\__init__.py\", line 24, in <module>\n",
      "    from tensorflow.python import *\n",
      "  File \"C:\\Users\\gilbe\\Anaconda3\\lib\\site-packages\\tensorflow\\python\\__init__.py\", line 63, in <module>\n",
      "    from tensorflow.python.framework.framework_lib import *\n",
      "  File \"C:\\Users\\gilbe\\Anaconda3\\lib\\site-packages\\tensorflow\\python\\framework\\framework_lib.py\", line 76, in <module>\n",
      "    from tensorflow.python.framework.ops import Graph\n",
      "  File \"C:\\Users\\gilbe\\Anaconda3\\lib\\site-packages\\tensorflow\\python\\framework\\ops.py\", line 858, in <module>\n",
      "    EagerTensor = c_api.TFE_Py_InitEagerTensor(_EagerTensorBase)\n",
      "DeprecationWarning: builtin type EagerTensor has no __module__ attribute\n",
      "\n",
      "During handling of the above exception, another exception occurred:\n",
      "\n",
      "Traceback (most recent call last):\n",
      "  File \"C:\\Users\\gilbe\\Anaconda3\\lib\\site-packages\\IPython\\core\\interactiveshell.py\", line 1821, in showtraceback\n",
      "    stb = value._render_traceback_()\n",
      "AttributeError: 'DeprecationWarning' object has no attribute '_render_traceback_'\n",
      "\n",
      "During handling of the above exception, another exception occurred:\n",
      "\n",
      "Traceback (most recent call last):\n",
      "  File \"C:\\Users\\gilbe\\Anaconda3\\lib\\site-packages\\IPython\\core\\ultratb.py\", line 1132, in get_records\n",
      "    return _fixed_getinnerframes(etb, number_of_lines_of_context, tb_offset)\n",
      "  File \"C:\\Users\\gilbe\\Anaconda3\\lib\\site-packages\\IPython\\core\\ultratb.py\", line 313, in wrapped\n",
      "    return f(*args, **kwargs)\n",
      "  File \"C:\\Users\\gilbe\\Anaconda3\\lib\\site-packages\\IPython\\core\\ultratb.py\", line 358, in _fixed_getinnerframes\n",
      "    records = fix_frame_records_filenames(inspect.getinnerframes(etb, context))\n",
      "  File \"C:\\Users\\gilbe\\Anaconda3\\lib\\inspect.py\", line 1454, in getinnerframes\n",
      "    frameinfo = (tb.tb_frame,) + getframeinfo(tb, context)\n",
      "  File \"C:\\Users\\gilbe\\Anaconda3\\lib\\inspect.py\", line 1411, in getframeinfo\n",
      "    filename = getsourcefile(frame) or getfile(frame)\n",
      "  File \"C:\\Users\\gilbe\\Anaconda3\\lib\\inspect.py\", line 671, in getsourcefile\n",
      "    if getattr(getmodule(object, filename), '__loader__', None) is not None:\n",
      "  File \"C:\\Users\\gilbe\\Anaconda3\\lib\\inspect.py\", line 708, in getmodule\n",
      "    if ismodule(module) and hasattr(module, '__file__'):\n",
      "  File \"C:\\Users\\gilbe\\Anaconda3\\lib\\site-packages\\py\\_vendored_packages\\apipkg.py\", line 195, in __getattribute__\n",
      "    return getattr(getmod(), name)\n",
      "  File \"C:\\Users\\gilbe\\Anaconda3\\lib\\site-packages\\py\\_vendored_packages\\apipkg.py\", line 179, in getmod\n",
      "    x = importobj(modpath, None)\n",
      "  File \"C:\\Users\\gilbe\\Anaconda3\\lib\\site-packages\\py\\_vendored_packages\\apipkg.py\", line 69, in importobj\n",
      "    module = __import__(modpath, None, None, ['__doc__'])\n",
      "  File \"C:\\Users\\gilbe\\Anaconda3\\lib\\site-packages\\pytest.py\", line 13, in <module>\n",
      "    from _pytest.fixtures import fixture, yield_fixture\n",
      "  File \"C:\\Users\\gilbe\\Anaconda3\\lib\\site-packages\\_pytest\\fixtures.py\", line 845, in <module>\n",
      "    class FixtureFunctionMarker(object):\n",
      "  File \"C:\\Users\\gilbe\\Anaconda3\\lib\\site-packages\\_pytest\\fixtures.py\", line 847, in FixtureFunctionMarker\n",
      "    params = attr.ib(convert=attr.converters.optional(tuple))\n",
      "  File \"C:\\Users\\gilbe\\Anaconda3\\lib\\site-packages\\attr\\_make.py\", line 153, in attrib\n",
      "    DeprecationWarning, stacklevel=2\n",
      "DeprecationWarning: The `convert` argument is deprecated in favor of `converter`.  It will be removed after 2019/01.\n"
     ]
    },
    {
     "ename": "DeprecationWarning",
     "evalue": "builtin type EagerTensor has no __module__ attribute",
     "output_type": "error",
     "traceback": [
      "\u001b[1;31m---------------------------------------------------------------------------\u001b[0m"
     ]
    }
   ],
   "source": [
    "import pandas as pd\n",
    "import numpy as np\n",
    "import os\n",
    "#from utils.utils import PROJECT_DATA_DIR\n",
    "import matplotlib.pyplot as plt\n",
    "#from load_transform import (load_transform,\n",
    "#                            split_train_dev_test,\n",
    "#                            inverse_return)\n",
    "from keras import optimizers\n",
    "import keras\n",
    "import random\n",
    "from keras.models import Sequential\n",
    "from keras.layers import Dense, LSTM, Dropout\n",
    "from sklearn.utils import shuffle\n",
    "from scipy.ndimage.interpolation import shift\n",
    "from keras import regularizers\n",
    "from sklearn.metrics import (mean_squared_error,\n",
    "                             classification_report,\n",
    "                             precision_score,\n",
    "                             recall_score,\n",
    "                             f1_score)\n",
    "\n",
    "\n",
    "\"\"\" Main keras model\"\"\"\n",
    "def build_model(drop_rate, lr, units, decay,\n",
    "                look_back,\n",
    "                no_features=1,\n",
    "                no_outputs=1\n",
    "                ):\n",
    "    \"\"\" Arguments\n",
    "    drop_rate -- drop_rate in dropout\n",
    "    learning_rate -- learning rate\n",
    "    time_steps -- time steps for the sequence\n",
    "    units -- number of hidden units or neurons\n",
    "    decay -- proportion of decay for learning rate\n",
    "    no_features -- number of features, default 1 for a 1-dim time series\n",
    "    no_outputs -- number of targets or outputs from the model\n",
    "    \"\"\"\n",
    "\n",
    "    optim = optimizers.Adam(lr=lr,\n",
    "                            beta_1=0.9,\n",
    "                            beta_2=0.999,\n",
    "                            decay=0.0,\n",
    "                            clipnorm=1.0)\n",
    "\n",
    "    # TODO: how to implement many layers in keras?\n",
    "    ret_seq = False\n",
    "    model = Sequential()\n",
    "    model.add(LSTM(units,input_shape=(look_back,no_features),\n",
    "                   return_sequences=ret_seq,\n",
    "                   kernel_regularizer=regularizers.l2(0.01),\n",
    "                   recurrent_regularizer=regularizers.l2(0.01),\n",
    "                   activation='relu'))\n",
    "    model.add(Dropout(drop_rate))\n",
    "    model.add(Dense(no_outputs, kernel_regularizer=regularizers.l2(0.01)))\n",
    "    model.compile(loss='mean_squared_error',\n",
    "                  optimizer=optim,\n",
    "                  metrics=['mse'])\n",
    "    return model\n",
    "\n",
    "\n",
    "def train_lstm(X_train, Y_train, X_dev, Y_dev,\n",
    "               epochs, drop_rate, batch_size, decay,\n",
    "               look_back, lr, units):\n",
    "\n",
    "    num_features = X_train.shape[-1]\n",
    "    num_outputs = Y_train.shape[-1]\n",
    "    model = build_model(drop_rate, lr, units, decay, look_back,\n",
    "                        no_features=num_features, no_outputs=num_outputs)\n",
    "\n",
    "    history = model.fit(X_train, Y_train, epochs, batch_size,\n",
    "                        verbose=0, validation_data=(X_dev, Y_dev),\n",
    "                        shuffle=False)\n",
    "    return model, history\n",
    "\n",
    "\n",
    "def plot_error_curves(history):\n",
    "    f1, axarr1 = plt.subplots(2, 1, sharex=True, figsize=(8, 10))\n",
    "    axarr1[0].plot(history.history['loss'])\n",
    "    axarr1[0].set_title('Training Loss')\n",
    "    axarr1[1].plot(history.history['val_loss'])\n",
    "    axarr1[1].set_title('Dev Loss')\n",
    "    axarr1[1].set_xlabel('Epochs')\n",
    "#    f1.suptitle('MSE for stock: {}'.format(st_name))\n",
    "    plt.show()\n",
    "\n",
    "\n",
    "def hit_ratio(p_true, p_pred, move=1, diff=True):\n",
    "    \"\"\" if working with price series use diff otherwise use\n",
    "    real the args directly\"\"\"\n",
    "    if diff:\n",
    "        arg_true = p_true - shift(p_true, move, cval=np.NaN)\n",
    "        arg_pred = p_pred - shift(p_pred, move, cval=np.NaN)\n",
    "    else:\n",
    "        arg_true = p_true\n",
    "        arg_pred = p_pred\n",
    "    P = np.multiply(arg_true, arg_pred)\n",
    "    result = np.mean(np.where(P > 0, 1, 0))\n",
    "    return result\n",
    "\n",
    "\n",
    "def train(x_train, y_train, x_dev, y_dev, scaler):\n",
    "    \"\"\" Training function, calls train_lstm and optimizes\n",
    "    hyperparameters\"\"\"\n",
    "\n",
    "    patience = 25\n",
    "    count = 0\n",
    "    optimal_parameters = {}\n",
    "    old_hit = 0\n",
    "    accepted_hit = 0\n",
    "    \"\"\" Maybe good to save for each new better result?\"\"\"\n",
    "    while  (count < patience): #or (accepted_hit < 0.88):# or (count < patience):\n",
    "        print('')\n",
    "        print('.' * 50)\n",
    "        print('While iteration:', count)\n",
    "        params = {'drop_rate': np.random.uniform(0.1, 0.5),\n",
    "                  'lr': 10**np.random.uniform(-4, -2),\n",
    "                  'units': np.random.randint(50, 200),\n",
    "                  'epochs': np.random.randint(200, 450),\n",
    "                  'decay': 1e-6,\n",
    "                  'look_back': x_train.shape[1],\n",
    "#                  'optim': random.sample(['SGD', 'RMSprop', 'Adam'], 3)[0],\n",
    "                  'batch_size': shuffle(np.array([2**5, 2**6,\n",
    "                                                  2**7, 2**8]))[0]}\n",
    "        print('')\n",
    "        print(params)\n",
    "        print('')\n",
    "        model, history = train_lstm(x_train, y_train, x_dev, y_dev, **params)\n",
    "        train_predict = model.predict(x_train)\n",
    "        dev_predict = model.predict(x_dev)\n",
    "\n",
    "#        dot_prod = np.dot(y_train, train_predict)\n",
    "#        print('dot-product of y_pred and y:')\n",
    "#        print(dot_prod)\n",
    "\n",
    "        if np.any(np.isnan(train_predict)) or np.any(np.isinf(train_predict))\\\n",
    "        or np.any(np.isnan(y_train)) or np.any(np.isinf(y_train)):\n",
    "            print('')\n",
    "            print('check if predictions for training dataset are too big!')\n",
    "            print('are there any Nas or inf? Yes')\n",
    "            print('train_predict =', train_predict)\n",
    "            print('y_train =', y_train)\n",
    "        if np.any(np.isnan(dev_predict)) or np.any(np.isinf(dev_predict))\\\n",
    "        or np.any(np.isinf(y_dev)) or np.any(np.isinf(y_dev)):\n",
    "            print('')\n",
    "            print('check if predictions for dev dataset are too big!')\n",
    "            print('are there any Nas or inf? Yes')\n",
    "            print('dev_predict =', dev_predict)\n",
    "            print('y_dev =', y_dev)\n",
    "\n",
    "        mse_dev = mean_squared_error(y_dev, dev_predict)\n",
    "        mse_train = mean_squared_error(y_train, train_predict)\n",
    "\n",
    "        hit_train = hit_ratio(scaler.inverse_transform(y_train),\n",
    "                              scaler.inverse_transform(train_predict), diff=False)\n",
    "        hit_dev = hit_ratio(scaler.inverse_transform(y_dev),\n",
    "                            scaler.inverse_transform(dev_predict), diff=False)\n",
    "\n",
    "#        hit_train = hit_ratio(y_train, train_predict)\n",
    "#        hit_dev = hit_ratio(y_dev, dev_predict)\n",
    "\n",
    "        # if diff betwenn train mse and dev mse\n",
    "        # less than one then no so much overfit\n",
    "        print('mse for train set:', mse_train)\n",
    "        print('mse for dev set:', mse_dev)\n",
    "        print('-' * 10)\n",
    "        print('hit-ratio train:', hit_train)\n",
    "        print('hit-ratio dev:', hit_dev)\n",
    "        print('train_predict.shape:', train_predict.shape)\n",
    "        print('dev_predict.shape:', dev_predict.shape)\n",
    "#        print('-' * 10)\n",
    "#        print('y_dev =', y_dev)\n",
    "#        print('-' * 10)\n",
    "#        print('dev_predict =', dev_predict)\n",
    "\n",
    "        print('-' * 10)\n",
    "        print('y_dev =', scaler.inverse_transform(y_dev))\n",
    "        print('-' * 10)\n",
    "        print('dev_predict =', scaler.inverse_transform(dev_predict))\n",
    "\n",
    "        # TODO: add sequence length as hyper parameter\n",
    "        # and then pop from optimal parameters\n",
    "        if (np.abs(mse_train - mse_dev) < 2) and (np.abs(hit_dev - hit_train) < 0.07):\n",
    "            old_hit = hit_dev\n",
    "            # new code 2018-03-27\n",
    "            # added if cond and put parameter update under condition\n",
    "            if accepted_hit < old_hit:\n",
    "                \"\"\"Swap accepted and old value\"\"\"\n",
    "                accepted_hit, old_hit = old_hit, accepted_hit\n",
    "                print('accepted_hit:', accepted_hit)\n",
    "                optimal_parameters['drop_rate'] = params['drop_rate']\n",
    "                optimal_parameters['lr'] = params['lr']\n",
    "                optimal_parameters['units'] = params['units']\n",
    "                optimal_parameters['epochs'] = params['epochs']\n",
    "                optimal_parameters['decay'] = params['decay']\n",
    "                optimal_parameters['look_back'] = params['look_back']\n",
    "                optimal_parameters['batch_size'] = params['batch_size']\n",
    "        del model, history\n",
    "        model, history = None, None\n",
    "        if len(optimal_parameters) > 0:\n",
    "            print('')\n",
    "            print('The optimal parameters found so far', optimal_parameters)\n",
    "        else:\n",
    "            print('')\n",
    "            print('No optimal parameters found yet')\n",
    "        del model\n",
    "        del history\n",
    "        count += 1\n",
    "    # TODO:\n",
    "    if len(optimal_parameters) == 0:\n",
    "        \"\"\" break program with message that the \"\"\"\n",
    "        pass\n",
    "\n",
    "    print('')\n",
    "    print('The optimal parameters are:', optimal_parameters)\n",
    "    keras.backend.clear_session()\n",
    "    \"\"\" Has to retrain as the model is deleted during the\n",
    "    while loop\"\"\"\n",
    "    model, history = train_lstm(x_train, y_train, x_dev, y_dev,\n",
    "                                **optimal_parameters)\n",
    "    return optimal_parameters, model, history\n",
    "\n",
    "\n",
    "if __name__ == '__main__':\n",
    "\n",
    "    \"\"\" This example is for only one stock just to see that\n",
    "    it works. Later we can test a model with all the stocks\n",
    "    at the same time.\n",
    "    \"\"\"\n",
    "    close = data#load_transform()\n",
    "    print('shape of close dataframe:', close.shape)\n",
    "    print('type for close:', type(close))\n",
    "    close_stock = close#[\"AAPL\"]\n",
    "    print('shape of close_stock:', close_stock.shape)\n",
    "\n",
    "    # TODO: move the train, dev and test split out of\n",
    "    # the train() function\n",
    "\n",
    "    \"\"\" if data transform to returns the order is as follows:\n",
    "        -first data transformed to returns\n",
    "        -then normalized\n",
    "\n",
    "        -inverse is in the reversed order, first denormalized then\n",
    "        transform to prices\n",
    "        \"\"\"\n",
    "    to_ret = False\n",
    "    (x_train, y_train, x_dev, y_dev,\n",
    "     x_test, y_test, scaler, stock_names) = split_train_dev_test(\n",
    "                                             close_stock,\n",
    "                                             normalize=True,\n",
    "                                             to_ret=to_ret,\n",
    "                                             dev=0.85)\n",
    "    print('')\n",
    "    print('training algorithm:')\n",
    "    print('shape train set:', x_train.shape, y_train.shape)\n",
    "    print('type of train set:', type(x_train))\n",
    "    print('shape dev set:', x_dev.shape, y_dev.shape)\n",
    "    print('shape test set:', x_test.shape, y_test.shape)\n",
    "    optimal_parameters, model, history = train(x_train, y_train,\n",
    "                                               x_dev, y_dev, scaler)\n",
    "\n",
    "    \"\"\"Both targets and predictions have to be transformed\"\"\"\n",
    "    dev_predict = model.predict(x_dev)\n",
    "    dev_predict = pd.DataFrame(scaler.inverse_transform(dev_predict),\n",
    "                               columns=stock_names)\n",
    "    y_dev = pd.DataFrame(scaler.inverse_transform(y_dev), columns=stock_names)\n",
    "\n",
    "    if to_ret:\n",
    "        \"\"\" dev_pridct are the returns computed by the model\"\"\"\n",
    "        dev_predict = dev_predict.apply(inverse_return, dev_predict)\n",
    "        y_dev = y_dev.apply(inverse_return, y_dev)\n",
    "\n",
    "    plt.figure(figsize=(10, 10))\n",
    "    dev_predict.plot(figsize=(10, 10))\n",
    "\n",
    "    y_dev.plot(figsize=(10, 10))\n",
    "    plot_error_curves(history)\n",
    "\n",
    "    # Compare the first 5 stocks in predictions and real data\n",
    "    ax = dev_predict.iloc[:, 0:5].plot(subplots=True, figsize=(15, 20),\n",
    "                         title='Predictions on dev-set')\n",
    "    y_dev.iloc[:, 0:5].plot(ax=ax, subplots=True, figsize=(15, 20),\n",
    "              title='Real data')\n"
   ]
  },
  {
   "cell_type": "code",
   "execution_count": null,
   "metadata": {
    "scrolled": false
   },
   "outputs": [
    {
     "name": "stderr",
     "output_type": "stream",
     "text": [
      "ERROR:root:Internal Python error in the inspect module.\n",
      "Below is the traceback from this internal error.\n",
      "\n"
     ]
    },
    {
     "name": "stdout",
     "output_type": "stream",
     "text": [
      "num_features 1\n",
      "num_outputs 1\n",
      "Traceback (most recent call last):\n",
      "  File \"C:\\Users\\gilbe\\Anaconda3\\lib\\site-packages\\IPython\\core\\interactiveshell.py\", line 2881, in run_code\n",
      "    exec(code_obj, self.user_global_ns, self.user_ns)\n",
      "  File \"<ipython-input-27-0cd0cd67717c>\", line 13, in <module>\n",
      "    optim = optimizers.Adam(lr=lr,\n",
      "NameError: name 'optimizers' is not defined\n",
      "\n",
      "During handling of the above exception, another exception occurred:\n",
      "\n",
      "Traceback (most recent call last):\n",
      "  File \"C:\\Users\\gilbe\\Anaconda3\\lib\\site-packages\\IPython\\core\\interactiveshell.py\", line 1821, in showtraceback\n",
      "    stb = value._render_traceback_()\n",
      "AttributeError: 'NameError' object has no attribute '_render_traceback_'\n",
      "\n",
      "During handling of the above exception, another exception occurred:\n",
      "\n",
      "Traceback (most recent call last):\n",
      "  File \"C:\\Users\\gilbe\\Anaconda3\\lib\\site-packages\\IPython\\core\\ultratb.py\", line 1132, in get_records\n",
      "    return _fixed_getinnerframes(etb, number_of_lines_of_context, tb_offset)\n",
      "  File \"C:\\Users\\gilbe\\Anaconda3\\lib\\site-packages\\IPython\\core\\ultratb.py\", line 313, in wrapped\n",
      "    return f(*args, **kwargs)\n",
      "  File \"C:\\Users\\gilbe\\Anaconda3\\lib\\site-packages\\IPython\\core\\ultratb.py\", line 358, in _fixed_getinnerframes\n",
      "    records = fix_frame_records_filenames(inspect.getinnerframes(etb, context))\n",
      "  File \"C:\\Users\\gilbe\\Anaconda3\\lib\\inspect.py\", line 1454, in getinnerframes\n",
      "    frameinfo = (tb.tb_frame,) + getframeinfo(tb, context)\n",
      "  File \"C:\\Users\\gilbe\\Anaconda3\\lib\\inspect.py\", line 1411, in getframeinfo\n",
      "    filename = getsourcefile(frame) or getfile(frame)\n",
      "  File \"C:\\Users\\gilbe\\Anaconda3\\lib\\inspect.py\", line 671, in getsourcefile\n",
      "    if getattr(getmodule(object, filename), '__loader__', None) is not None:\n",
      "  File \"C:\\Users\\gilbe\\Anaconda3\\lib\\inspect.py\", line 708, in getmodule\n",
      "    if ismodule(module) and hasattr(module, '__file__'):\n",
      "  File \"C:\\Users\\gilbe\\Anaconda3\\lib\\site-packages\\py\\_vendored_packages\\apipkg.py\", line 195, in __getattribute__\n",
      "    return getattr(getmod(), name)\n",
      "  File \"C:\\Users\\gilbe\\Anaconda3\\lib\\site-packages\\py\\_vendored_packages\\apipkg.py\", line 179, in getmod\n",
      "    x = importobj(modpath, None)\n",
      "  File \"C:\\Users\\gilbe\\Anaconda3\\lib\\site-packages\\py\\_vendored_packages\\apipkg.py\", line 69, in importobj\n",
      "    module = __import__(modpath, None, None, ['__doc__'])\n",
      "  File \"C:\\Users\\gilbe\\Anaconda3\\lib\\site-packages\\pytest.py\", line 13, in <module>\n",
      "    from _pytest.fixtures import fixture, yield_fixture\n",
      "  File \"C:\\Users\\gilbe\\Anaconda3\\lib\\site-packages\\_pytest\\fixtures.py\", line 845, in <module>\n",
      "    class FixtureFunctionMarker(object):\n",
      "  File \"C:\\Users\\gilbe\\Anaconda3\\lib\\site-packages\\_pytest\\fixtures.py\", line 847, in FixtureFunctionMarker\n",
      "    params = attr.ib(convert=attr.converters.optional(tuple))\n",
      "  File \"C:\\Users\\gilbe\\Anaconda3\\lib\\site-packages\\attr\\_make.py\", line 153, in attrib\n",
      "    DeprecationWarning, stacklevel=2\n",
      "DeprecationWarning: The `convert` argument is deprecated in favor of `converter`.  It will be removed after 2019/01.\n"
     ]
    },
    {
     "ename": "NameError",
     "evalue": "name 'optimizers' is not defined",
     "output_type": "error",
     "traceback": [
      "\u001b[1;31m---------------------------------------------------------------------------\u001b[0m"
     ]
    }
   ],
   "source": [
    "num_features = x_train.shape[-1]\n",
    "print('num_features', num_features)\n",
    "num_outputs = y_train.shape[-1]\n",
    "print('num_outputs', num_outputs)\n",
    "drop_rate = 0.4\n",
    "lr = 0.001\n",
    "units = 100\n",
    "epochs = 150\n",
    "decay = 1e-6\n",
    "look_back = x_train.shape[1]\n",
    "batch_size = 64\n",
    "\n",
    "optim = optimizers.Adam(lr=lr,\n",
    "                        beta_1=0.9,\n",
    "                        beta_2=0.999,\n",
    "                        decay=0.0,\n",
    "                        clipnorm=1.0)\n",
    "\n",
    "ret_seq = False\n",
    "model = Sequential()\n",
    "model.add(LSTM(units,input_shape=(look_back, num_features),\n",
    "#                   return_sequences=ret_seq,\n",
    "               kernel_regularizer=regularizers.l2(0.01),\n",
    "               recurrent_regularizer=regularizers.l2(0.01),\n",
    "               activation='relu'))\n",
    "model.add(Dropout(drop_rate))\n",
    "model.add(Dense(no_outputs, kernel_regularizer=regularizers.l2(0.01)))\n",
    "model.compile(loss='mean_squared_error',\n",
    "              optimizer=optim,\n",
    "              metrics=['mse'])\n",
    "\n",
    "history = model.fit(x_train, y_train, epochs, batch_size,\n",
    "                    verbose=0, validation_data=(x_dev, y_dev),\n",
    "                    shuffle=False)\n",
    "\n",
    "train_predict = model.predict(x_train)\n",
    "dev_predict = model.predict(x_dev)\n",
    "\n",
    "mse_train = mean_squared_error(y_train, train_predict)\n",
    "mse_dev = mean_squared_error(y_dev, dev_predict)\n",
    "\n",
    "plot(history)"
   ]
  },
  {
   "cell_type": "code",
   "execution_count": null,
   "metadata": {
    "collapsed": true
   },
   "outputs": [],
   "source": []
  }
 ],
 "metadata": {
  "kernelspec": {
   "display_name": "Python 3",
   "language": "python",
   "name": "python3"
  },
  "language_info": {
   "codemirror_mode": {
    "name": "ipython",
    "version": 3
   },
   "file_extension": ".py",
   "mimetype": "text/x-python",
   "name": "python",
   "nbconvert_exporter": "python",
   "pygments_lexer": "ipython3",
   "version": "3.5.3"
  }
 },
 "nbformat": 4,
 "nbformat_minor": 2
}
