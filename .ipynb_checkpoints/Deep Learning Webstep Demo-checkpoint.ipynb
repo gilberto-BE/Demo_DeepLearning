{
 "cells": [
  {
   "cell_type": "code",
   "execution_count": 7,
   "metadata": {},
   "outputs": [],
   "source": [
    "import pandas as pd\n",
    "import numpy as np\n",
    "import mxnet as mx\n",
    "from mxnet import nd, autograd, gluon\n",
    "import OpenSSL.SSL\n",
    "\n",
    "# Set the context: Run computation on cpus\n",
    "data_ctx = mx.cpu()\n",
    "model_ctx = mx.cpu()"
   ]
  },
  {
   "cell_type": "markdown",
   "metadata": {},
   "source": [
    "## Deep Learning Demo\n",
    "\n",
    "### Neural Networks\n",
    "\n",
    "### Recurrent Neural Networks\n",
    "\n",
    "### Optimization with Gradient Descent\n",
    "\n",
    "\n",
    "\n",
    "### Deep Learning Framworks\n",
    "* tensorflow\n",
    "* Keras\n",
    "* pytorch\n",
    "* CNTK\n",
    "* MXNet\n",
    "* etc\n",
    "\n",
    "### Linear Regression with MXNet\n",
    "Estimate the parameters $\\mathbf{w}$ and $b$ with a linear model of the form:\n",
    "\\begin{equation}\n",
    "\\hat{y} = \\mathbf{w} \\cdot \\mathbf{X}^T + b\n",
    "\\end{equation}\n",
    "\n",
    "To assess how well our predictions are with respect to the true targets we use the square loss:\n",
    "\\begin{equation}\n",
    "L(y, \\hat{y}) = \\sum_{i=1}^n (\\hat{y}_i - y_i)^2 \n",
    "\\end{equation}\n",
    "\n",
    "\n",
    "\n"
   ]
  },
  {
   "cell_type": "code",
   "execution_count": null,
   "metadata": {
    "collapsed": true
   },
   "outputs": [],
   "source": []
  }
 ],
 "metadata": {
  "kernelspec": {
   "display_name": "Python 3",
   "language": "python",
   "name": "python3"
  },
  "language_info": {
   "codemirror_mode": {
    "name": "ipython",
    "version": 3
   },
   "file_extension": ".py",
   "mimetype": "text/x-python",
   "name": "python",
   "nbconvert_exporter": "python",
   "pygments_lexer": "ipython3",
   "version": "3.6.3"
  }
 },
 "nbformat": 4,
 "nbformat_minor": 2
}
